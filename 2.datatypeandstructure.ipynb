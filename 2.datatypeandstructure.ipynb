{
  "nbformat": 4,
  "nbformat_minor": 0,
  "metadata": {
    "colab": {
      "provenance": []
    },
    "kernelspec": {
      "name": "python3",
      "display_name": "Python 3"
    },
    "language_info": {
      "name": "python"
    }
  },
  "cells": [
    {
      "cell_type": "markdown",
      "source": [
        "##DATA TYPE AND STRUCTURES"
      ],
      "metadata": {
        "id": "o0emCxJj5nJO"
      }
    },
    {
      "cell_type": "markdown",
      "source": [
        "1. What are data structures, and why are they important?\n",
        " - Data strutures is a way of orangizing and storing data so that it can be accessed and manipulated effectintly.\n"
      ],
      "metadata": {
        "id": "JriD-VTe1Prp"
      }
    },
    {
      "cell_type": "markdown",
      "source": [
        "2. Difference between mutable and immutable data types with examples.\n",
        "\n",
        "- Mutable: Can be changed after creation. Example:\n",
        "a = [1, 2, 3]\n",
        "a[0] = 10   # allowed\n",
        "\n",
        "  Immutable: Cannot be changed after creation. Example:\n",
        "  b = (1, 2, 3)\n",
        "  b[0] = 10 → Error\n"
      ],
      "metadata": {
        "id": "xYL9-qmb4SMc"
      }
    },
    {
      "cell_type": "markdown",
      "source": [
        "3. Differences between lists and tuples in Python.\n",
        "\n",
        "- Lists are mutable, tuples are immutable.\n",
        "\n",
        "  Lists use [], tuples use ().\n",
        "\n",
        "  Lists are slower, tuples are faster in iteration due to immutability.\n",
        "\n",
        "  Lists are flexible, tuples ensure fixed data."
      ],
      "metadata": {
        "id": "W9czo-eS6rG0"
      }
    },
    {
      "cell_type": "markdown",
      "source": [
        "4. How dictionaries store data.\n",
        "\n",
        "- Dictionaries use hash tables, where keys are hashed into indices. This allows fast lookups, insertions, and deletions on average."
      ],
      "metadata": {
        "id": "HotEebIV67C7"
      }
    },
    {
      "cell_type": "markdown",
      "source": [
        "5. Why use a set instead of a list?\n",
        "\n",
        "- Sets automatically remove duplicates.\n",
        "\n",
        "  Faster membership checking (in) due to hashing."
      ],
      "metadata": {
        "id": "ajSnMRGU7Ma_"
      }
    },
    {
      "cell_type": "markdown",
      "source": [
        "6. What is a string in Python, and how is it different from a list?\n",
        "\n",
        "- A string is a sequence of characters (immutable). A list is a collection of items (mutable, can hold multiple data types)."
      ],
      "metadata": {
        "id": "ipYLC8v57Vmf"
      }
    },
    {
      "cell_type": "markdown",
      "source": [
        "7. How do tuples ensure data integrity?\n",
        "\n",
        "- Since tuples are immutable, data cannot be accidentally modified, making them reliable for fixed records."
      ],
      "metadata": {
        "id": "Y3Nuxsm47xAb"
      }
    },
    {
      "cell_type": "markdown",
      "source": [
        "8. What is a hash table, and how does it relate to dictionaries?\n",
        "\n",
        "- A hash table is a data structure that maps keys to values using hash functions. Python dictionaries are implemented as hash tables."
      ],
      "metadata": {
        "id": "PmPaQrA376XK"
      }
    },
    {
      "cell_type": "markdown",
      "source": [
        "9. Can lists contain different data types?\n",
        "\n",
        "- YES\n",
        "\n",
        "  lst = [1, \"hello\", 3.5, True]\n"
      ],
      "metadata": {
        "id": "kC3ykKQw8JOY"
      }
    },
    {
      "cell_type": "markdown",
      "source": [
        "10. Why are strings immutable in Python?\n",
        "\n",
        "- Because they are widely used and immutability ensures memory efficiency (string interning), thread-safety, and security."
      ],
      "metadata": {
        "id": "Z7rN2Fsw8HP_"
      }
    },
    {
      "cell_type": "markdown",
      "source": [
        "11. Advantages of dictionaries over lists.\n",
        "\n",
        "- Faster lookups with keys.\n",
        "\n",
        "  Keys are meaningful labels (not just indices)."
      ],
      "metadata": {
        "id": "-yrgpROC8dQr"
      }
    },
    {
      "cell_type": "markdown",
      "source": [
        "12. When is a tuple preferable over a list?\n",
        "\n",
        "- When you need fixed, unchangeable data, e.g., coordinates (x,\n",
        "  y)."
      ],
      "metadata": {
        "id": "jqZ9cANp8i5k"
      }
    },
    {
      "cell_type": "markdown",
      "source": [
        "13. How do sets handle duplicate values?\n",
        "- Sets automatically remove duplicates.\n",
        "  set([1,1,2,2,3]) → {1,2,3}\n"
      ],
      "metadata": {
        "id": "zSSdh9i48uRd"
      }
    },
    {
      "cell_type": "markdown",
      "source": [
        "14. Difference of in for lists vs dictionaries.\n",
        "\n",
        "- List: checks if the element exists.\n",
        "\n",
        "  Dictionary: checks if the key exists."
      ],
      "metadata": {
        "id": "QvxWcRUx_rzu"
      }
    },
    {
      "cell_type": "markdown",
      "source": [
        "15. Can you modify tuple elements? Why/why not?\n",
        "\n",
        "- No, tuples are immutable. You can only replace the entire    \n",
        "  tuple."
      ],
      "metadata": {
        "id": "jV_IhHt0_8Bj"
      }
    },
    {
      "cell_type": "markdown",
      "source": [
        "16. What is a nested dictionary? Example.\n",
        "\n",
        "- A dictionary inside another dictionary.\n",
        "\n",
        "  students = {\"A\": {\"age\": 20, \"city\": \"Delhi\"}}"
      ],
      "metadata": {
        "id": "zyfC3wduAFXp"
      }
    },
    {
      "cell_type": "markdown",
      "source": [
        "17. Time complexity of dictionary element access.\n",
        "- Average case: O(1) due to hashing.\n",
        "  Worst case: O(n) if many hash collisions."
      ],
      "metadata": {
        "id": "FDY1AjdiAQeJ"
      }
    },
    {
      "cell_type": "markdown",
      "source": [
        "18. When are lists preferred over dictionaries?\n",
        "\n",
        "- When order matters.\n",
        "\n",
        "   When indexing by position is required."
      ],
      "metadata": {
        "id": "nbp4zClBAYiP"
      }
    },
    {
      "cell_type": "markdown",
      "source": [
        "19. Why are dictionaries unordered (before Python 3.7)?\n",
        "\n",
        "- They were stored based on hash values, not insertion order.\n",
        "  Since Python 3.7+, they preserve insertion order, but conceptually still rely on hashing."
      ],
      "metadata": {
        "id": "r0ndE91oAqDc"
      }
    },
    {
      "cell_type": "markdown",
      "source": [
        "20. Difference between list and dictionary in data retrieval.\n",
        "\n",
        "- List: retrieve by index (position).\n",
        "\n",
        "  Dictionary: retrieve by key (label)."
      ],
      "metadata": {
        "id": "iZDxOzcuBVUo"
      }
    },
    {
      "cell_type": "markdown",
      "source": [
        "##PRACTICAL QUESTIONS"
      ],
      "metadata": {
        "id": "U9nh2nicG-FL"
      }
    },
    {
      "cell_type": "markdown",
      "source": [
        "Q1. Write a code to create a string with your name and print it"
      ],
      "metadata": {
        "id": "CVDlb17fG6Mj"
      }
    },
    {
      "cell_type": "code",
      "source": [
        "name = \"Ankit Kumar\"\n",
        "print(name)\n"
      ],
      "metadata": {
        "colab": {
          "base_uri": "https://localhost:8080/"
        },
        "id": "eIXYcWBdAlK3",
        "outputId": "0d8cc868-22c9-4611-d088-80d01bfd83b4"
      },
      "execution_count": 3,
      "outputs": [
        {
          "output_type": "stream",
          "name": "stdout",
          "text": [
            "Ankit Kumar\n"
          ]
        }
      ]
    },
    {
      "cell_type": "markdown",
      "source": [
        "Q2. Write a code to find the length of the string \"Hello World\""
      ],
      "metadata": {
        "id": "cStrfkaFHJY0"
      }
    },
    {
      "cell_type": "code",
      "source": [
        "text = \"Hello World\"\n",
        "print(len(text))\n"
      ],
      "metadata": {
        "colab": {
          "base_uri": "https://localhost:8080/"
        },
        "id": "8dNQzdcyBhQu",
        "outputId": "d2a7361d-a045-4e74-c55f-8f56a57a5e40"
      },
      "execution_count": 4,
      "outputs": [
        {
          "output_type": "stream",
          "name": "stdout",
          "text": [
            "11\n"
          ]
        }
      ]
    },
    {
      "cell_type": "markdown",
      "source": [
        "Q3. Write a code to slice the first 3 characters from the string \"Python Programming\""
      ],
      "metadata": {
        "id": "Kd1whSDnHPd5"
      }
    },
    {
      "cell_type": "code",
      "source": [
        "text = \"Python Programming\"\n",
        "print(text[:3])"
      ],
      "metadata": {
        "colab": {
          "base_uri": "https://localhost:8080/"
        },
        "id": "5rJ5n4QQHQFE",
        "outputId": "aa9e393d-b228-479f-d9ea-f8be81e41362"
      },
      "execution_count": 5,
      "outputs": [
        {
          "output_type": "stream",
          "name": "stdout",
          "text": [
            "Pyt\n"
          ]
        }
      ]
    },
    {
      "cell_type": "markdown",
      "source": [
        "Q4. Write a code to convert the string \"hello\" to uppercase"
      ],
      "metadata": {
        "id": "_TEcsGtpHUuQ"
      }
    },
    {
      "cell_type": "code",
      "source": [
        "text = \"hello\"\n",
        "print(text.upper())\n"
      ],
      "metadata": {
        "colab": {
          "base_uri": "https://localhost:8080/"
        },
        "id": "-Fb2h8f9HSN9",
        "outputId": "b435cd13-dced-4efc-ab75-32b4e91bcf54"
      },
      "execution_count": 6,
      "outputs": [
        {
          "output_type": "stream",
          "name": "stdout",
          "text": [
            "HELLO\n"
          ]
        }
      ]
    },
    {
      "cell_type": "markdown",
      "source": [
        "Q5. Write a code to replace the word \"apple\" with \"orange\" in the string \"I like apple\""
      ],
      "metadata": {
        "id": "UH_yFbsgHiBf"
      }
    },
    {
      "cell_type": "code",
      "source": [
        "text = \"I like apple\"\n",
        "print(text.replace(\"apple\", \"orange\"))\n"
      ],
      "metadata": {
        "colab": {
          "base_uri": "https://localhost:8080/"
        },
        "id": "b5PxR-hgHdpc",
        "outputId": "8909af6f-4c9b-41d8-881e-e385a7e6d2f0"
      },
      "execution_count": 7,
      "outputs": [
        {
          "output_type": "stream",
          "name": "stdout",
          "text": [
            "I like orange\n"
          ]
        }
      ]
    },
    {
      "cell_type": "markdown",
      "source": [
        "Q6. Write a code to create a list with numbers 1 to 5 and print it"
      ],
      "metadata": {
        "id": "9tARpahfIHEi"
      }
    },
    {
      "cell_type": "code",
      "source": [
        "lst = [1, 2, 3, 4, 5]\n",
        "print(lst)\n"
      ],
      "metadata": {
        "colab": {
          "base_uri": "https://localhost:8080/"
        },
        "id": "1Tiz_kNeIHrw",
        "outputId": "265d37ad-c907-405f-aa3d-a2c5c3c4e3e5"
      },
      "execution_count": 8,
      "outputs": [
        {
          "output_type": "stream",
          "name": "stdout",
          "text": [
            "[1, 2, 3, 4, 5]\n"
          ]
        }
      ]
    },
    {
      "cell_type": "code",
      "source": [],
      "metadata": {
        "id": "y909pX81ILHs"
      },
      "execution_count": null,
      "outputs": []
    },
    {
      "cell_type": "markdown",
      "source": [
        "Q7. Write a code to append the number 10 to the list [1, 2, 3, 4]"
      ],
      "metadata": {
        "id": "1QNwUayaINol"
      }
    },
    {
      "cell_type": "code",
      "source": [
        "lst = [1, 2, 3, 4]\n",
        "lst.append(10)\n",
        "print(lst)\n"
      ],
      "metadata": {
        "colab": {
          "base_uri": "https://localhost:8080/"
        },
        "id": "1QF6YnYhIOK-",
        "outputId": "2b29fd9a-8a4c-42b7-b988-1b88a9fac308"
      },
      "execution_count": 9,
      "outputs": [
        {
          "output_type": "stream",
          "name": "stdout",
          "text": [
            "[1, 2, 3, 4, 10]\n"
          ]
        }
      ]
    },
    {
      "cell_type": "markdown",
      "source": [
        "Q8. Write a code to remove the number 3 from the list [1, 2, 3, 4, 5]"
      ],
      "metadata": {
        "id": "RuynC_dnISFI"
      }
    },
    {
      "cell_type": "code",
      "source": [
        "lst = [1, 2, 3, 4, 5]\n",
        "lst.remove(3)\n",
        "print(lst)\n"
      ],
      "metadata": {
        "colab": {
          "base_uri": "https://localhost:8080/"
        },
        "id": "lnOIjavyIPvS",
        "outputId": "e675c329-05d9-45f4-8ad2-fd5191c5d4e8"
      },
      "execution_count": 10,
      "outputs": [
        {
          "output_type": "stream",
          "name": "stdout",
          "text": [
            "[1, 2, 4, 5]\n"
          ]
        }
      ]
    },
    {
      "cell_type": "markdown",
      "source": [
        "Q9. Write a code to access the second element in the list ['a', 'b', 'c', 'd']"
      ],
      "metadata": {
        "id": "gOkrsTBAIV1H"
      }
    },
    {
      "cell_type": "code",
      "source": [
        "lst = ['a', 'b', 'c', 'd']\n",
        "print(lst[1])\n"
      ],
      "metadata": {
        "colab": {
          "base_uri": "https://localhost:8080/"
        },
        "id": "glxbQ1g4IWbc",
        "outputId": "141b2c97-2828-4920-c55f-9fc770c26b5d"
      },
      "execution_count": 11,
      "outputs": [
        {
          "output_type": "stream",
          "name": "stdout",
          "text": [
            "b\n"
          ]
        }
      ]
    },
    {
      "cell_type": "markdown",
      "source": [
        "Q10. Write a code to reverse the list [10, 20, 30, 40, 50]"
      ],
      "metadata": {
        "id": "NQIj5cS7IasQ"
      }
    },
    {
      "cell_type": "code",
      "source": [
        "lst = [10, 20, 30, 40, 50]\n",
        "lst.reverse()\n",
        "print(lst)\n"
      ],
      "metadata": {
        "colab": {
          "base_uri": "https://localhost:8080/"
        },
        "id": "u2wSBZaVIYBH",
        "outputId": "55bb9869-5e77-4272-99d8-13b0996d5ba8"
      },
      "execution_count": 12,
      "outputs": [
        {
          "output_type": "stream",
          "name": "stdout",
          "text": [
            "[50, 40, 30, 20, 10]\n"
          ]
        }
      ]
    },
    {
      "cell_type": "markdown",
      "source": [
        "Q11. Write a code to create a tuple with the elements 100, 200, 300 and print it"
      ],
      "metadata": {
        "id": "rn0jZcZ0InH2"
      }
    },
    {
      "cell_type": "code",
      "source": [
        "tup = (100, 200, 300)\n",
        "print(tup)\n"
      ],
      "metadata": {
        "colab": {
          "base_uri": "https://localhost:8080/"
        },
        "id": "hCo0JO-pIntj",
        "outputId": "3b2f5504-de2d-4313-9f39-44cfe8e6f4e2"
      },
      "execution_count": 13,
      "outputs": [
        {
          "output_type": "stream",
          "name": "stdout",
          "text": [
            "(100, 200, 300)\n"
          ]
        }
      ]
    },
    {
      "cell_type": "markdown",
      "source": [
        "Q12. Write a code to access the second-to-last element of the tuple ('red', 'green', 'blue', 'yellow')"
      ],
      "metadata": {
        "id": "gyLvywhjIxk8"
      }
    },
    {
      "cell_type": "code",
      "source": [
        "colors = ('red', 'green', 'blue', 'yellow')\n",
        "print(colors[-2])\n"
      ],
      "metadata": {
        "colab": {
          "base_uri": "https://localhost:8080/"
        },
        "id": "mfI46ZJcIySk",
        "outputId": "7d1b35f4-edcd-4b5e-aee1-a7a15d429005"
      },
      "execution_count": 14,
      "outputs": [
        {
          "output_type": "stream",
          "name": "stdout",
          "text": [
            "blue\n"
          ]
        }
      ]
    },
    {
      "cell_type": "markdown",
      "source": [
        "Q13. Write a code to find the minimum number in the tuple (10, 20, 5, 15)"
      ],
      "metadata": {
        "id": "y_e1JHQYI4M7"
      }
    },
    {
      "cell_type": "code",
      "source": [
        "nums = (10, 20, 5, 15)\n",
        "print(min(nums))\n"
      ],
      "metadata": {
        "colab": {
          "base_uri": "https://localhost:8080/"
        },
        "id": "kiMuXNxJI45k",
        "outputId": "75b079dc-cb6d-4bac-a1b2-3701968734d4"
      },
      "execution_count": 15,
      "outputs": [
        {
          "output_type": "stream",
          "name": "stdout",
          "text": [
            "5\n"
          ]
        }
      ]
    },
    {
      "cell_type": "markdown",
      "source": [
        "Q14. Write a code to find the index of the element \"cat\" in the tuple ('dog', 'cat', 'rabbit')"
      ],
      "metadata": {
        "id": "4MjO39wbI88S"
      }
    },
    {
      "cell_type": "code",
      "source": [
        "animals = ('dog', 'cat', 'rabbit')\n",
        "print(animals.index(\"cat\"))\n"
      ],
      "metadata": {
        "colab": {
          "base_uri": "https://localhost:8080/"
        },
        "id": "wH5reHeeI96c",
        "outputId": "152c5bd2-23e9-4108-d751-8ce00d675b36"
      },
      "execution_count": 16,
      "outputs": [
        {
          "output_type": "stream",
          "name": "stdout",
          "text": [
            "1\n"
          ]
        }
      ]
    },
    {
      "cell_type": "markdown",
      "source": [
        "Q15. Write a code to create a tuple containing three different fruits and check if \"kiwi\" is in it"
      ],
      "metadata": {
        "id": "OeLAc2qVJFWY"
      }
    },
    {
      "cell_type": "code",
      "source": [
        "fruits = (\"apple\", \"banana\", \"orange\")\n",
        "print(\"kiwi\" in fruits)\n"
      ],
      "metadata": {
        "colab": {
          "base_uri": "https://localhost:8080/"
        },
        "id": "k_NrIm-nJAMu",
        "outputId": "ad1c1d6e-7972-48a1-d0e7-4652c4b4c13a"
      },
      "execution_count": 17,
      "outputs": [
        {
          "output_type": "stream",
          "name": "stdout",
          "text": [
            "False\n"
          ]
        }
      ]
    },
    {
      "cell_type": "markdown",
      "source": [
        "Q16. Write a code to create a set with the elements 'a', 'b', 'c' and print it"
      ],
      "metadata": {
        "id": "xUMe1jUKJKX5"
      }
    },
    {
      "cell_type": "code",
      "source": [
        "s = {'a', 'b', 'c'}\n",
        "print(s)\n"
      ],
      "metadata": {
        "colab": {
          "base_uri": "https://localhost:8080/"
        },
        "id": "YtjBK_dIJHbE",
        "outputId": "05a2ee72-8c36-441d-9aab-1d1aec5aafab"
      },
      "execution_count": 18,
      "outputs": [
        {
          "output_type": "stream",
          "name": "stdout",
          "text": [
            "{'b', 'a', 'c'}\n"
          ]
        }
      ]
    },
    {
      "cell_type": "markdown",
      "source": [
        "Q17. Write a code to clear all elements from the set {1, 2, 3, 4, 5}"
      ],
      "metadata": {
        "id": "9quSvOa3JQex"
      }
    },
    {
      "cell_type": "code",
      "source": [
        "s = {1, 2, 3, 4, 5}\n",
        "s.clear()\n",
        "print(s)\n"
      ],
      "metadata": {
        "colab": {
          "base_uri": "https://localhost:8080/"
        },
        "id": "h4Z93A82JM7b",
        "outputId": "baa1146c-4ce1-4748-cd03-ad3fa2a4064c"
      },
      "execution_count": 19,
      "outputs": [
        {
          "output_type": "stream",
          "name": "stdout",
          "text": [
            "set()\n"
          ]
        }
      ]
    },
    {
      "cell_type": "markdown",
      "source": [
        "Q18. Write a code to remove the element 4 from the set {1, 2, 3, 4}"
      ],
      "metadata": {
        "id": "EyVh4LNZJVPf"
      }
    },
    {
      "cell_type": "code",
      "source": [
        "s = {1, 2, 3, 4}\n",
        "s.remove(4)\n",
        "print(s)\n"
      ],
      "metadata": {
        "colab": {
          "base_uri": "https://localhost:8080/"
        },
        "id": "CJjF8pP0JV27",
        "outputId": "76ac6ae5-a09f-41a2-f20d-5aaf68186b14"
      },
      "execution_count": 20,
      "outputs": [
        {
          "output_type": "stream",
          "name": "stdout",
          "text": [
            "{1, 2, 3}\n"
          ]
        }
      ]
    },
    {
      "cell_type": "markdown",
      "source": [
        "Q20. Write a code to find the intersection of two sets {1, 2, 3} and {2, 3, 4}"
      ],
      "metadata": {
        "id": "eu-IaMeaJc_f"
      }
    },
    {
      "cell_type": "code",
      "source": [
        "set1 = {1, 2, 3}\n",
        "set2 = {2, 3, 4}\n",
        "print(set1 & set2)\n"
      ],
      "metadata": {
        "colab": {
          "base_uri": "https://localhost:8080/"
        },
        "id": "_TJY6SHKJdkb",
        "outputId": "b2cf709b-b9c1-4438-cbf7-ce89f1e8f15a"
      },
      "execution_count": 21,
      "outputs": [
        {
          "output_type": "stream",
          "name": "stdout",
          "text": [
            "{2, 3}\n"
          ]
        }
      ]
    },
    {
      "cell_type": "markdown",
      "source": [
        "Q21. Write a code to create a dictionary with the keys \"name\", \"age\", and \"city\", and print it"
      ],
      "metadata": {
        "id": "-9nE-B7LJwSb"
      }
    },
    {
      "cell_type": "code",
      "source": [
        "d = {\"name\": \"John\", \"age\": 25, \"city\": \"New York\"}\n",
        "print(d)\n"
      ],
      "metadata": {
        "colab": {
          "base_uri": "https://localhost:8080/"
        },
        "id": "WBFDO-LGJtjl",
        "outputId": "aba7dd51-9f25-4a09-ff88-f82c8f3b1fef"
      },
      "execution_count": 22,
      "outputs": [
        {
          "output_type": "stream",
          "name": "stdout",
          "text": [
            "{'name': 'John', 'age': 25, 'city': 'New York'}\n"
          ]
        }
      ]
    },
    {
      "cell_type": "markdown",
      "source": [
        "Q22. Write a code to add a new key-value pair \"country\": \"USA\" to the dictionary {'name': 'John', 'age': 25}"
      ],
      "metadata": {
        "id": "XCR9hFwmJ21i"
      }
    },
    {
      "cell_type": "code",
      "source": [
        "d = {'name': 'John', 'age': 25}\n",
        "d['country'] = 'USA'\n",
        "print(d)\n"
      ],
      "metadata": {
        "colab": {
          "base_uri": "https://localhost:8080/"
        },
        "id": "mBlEyea9Jylc",
        "outputId": "8ab7b4c8-a262-4822-fbbe-2c8195ebcdb2"
      },
      "execution_count": 23,
      "outputs": [
        {
          "output_type": "stream",
          "name": "stdout",
          "text": [
            "{'name': 'John', 'age': 25, 'country': 'USA'}\n"
          ]
        }
      ]
    },
    {
      "cell_type": "markdown",
      "source": [
        "Q23. Write a code to access the value associated with the key \"name\" in the dictionary {'name': 'Alice', 'age': 30}"
      ],
      "metadata": {
        "id": "2xTFi5SZJ7aK"
      }
    },
    {
      "cell_type": "code",
      "source": [
        "d = {'name': 'Alice', 'age': 30}\n",
        "print(d['name'])\n"
      ],
      "metadata": {
        "colab": {
          "base_uri": "https://localhost:8080/"
        },
        "id": "xdbM3loCJ4xj",
        "outputId": "9159f44f-daae-4fc8-d957-21f8799d669b"
      },
      "execution_count": 24,
      "outputs": [
        {
          "output_type": "stream",
          "name": "stdout",
          "text": [
            "Alice\n"
          ]
        }
      ]
    },
    {
      "cell_type": "markdown",
      "source": [
        "Q24. Write a code to remove the key \"age\" from the dictionary {'name': 'Bob', 'age': 22, 'city': 'New York'}"
      ],
      "metadata": {
        "id": "VIj2PIOCKCyR"
      }
    },
    {
      "cell_type": "code",
      "source": [
        "d = {'name': 'Bob', 'age': 22, 'city': 'New York'}\n",
        "d.pop('age')\n",
        "print(d)\n"
      ],
      "metadata": {
        "colab": {
          "base_uri": "https://localhost:8080/"
        },
        "id": "cBPKeOMFJ9qf",
        "outputId": "625d9f90-e5c7-4b1f-936b-da49e74eea37"
      },
      "execution_count": 25,
      "outputs": [
        {
          "output_type": "stream",
          "name": "stdout",
          "text": [
            "{'name': 'Bob', 'city': 'New York'}\n"
          ]
        }
      ]
    },
    {
      "cell_type": "markdown",
      "source": [
        "Q25. Write a code to check if the key \"city\" exists in the dictionary {'name': 'Alice', 'city': 'Paris'}"
      ],
      "metadata": {
        "id": "63duNj2oKGr6"
      }
    },
    {
      "cell_type": "code",
      "source": [
        "d = {'name': 'Alice', 'city': 'Paris'}\n",
        "print('city' in d)\n"
      ],
      "metadata": {
        "colab": {
          "base_uri": "https://localhost:8080/"
        },
        "id": "suzUqlU4KEv2",
        "outputId": "6667432f-351d-49ee-df26-19b2ee69b605"
      },
      "execution_count": 26,
      "outputs": [
        {
          "output_type": "stream",
          "name": "stdout",
          "text": [
            "True\n"
          ]
        }
      ]
    },
    {
      "cell_type": "markdown",
      "source": [
        "Q26. Write a code to create a list, a tuple, and a dictionary, and print them all"
      ],
      "metadata": {
        "id": "4mOCJM3lKLeg"
      }
    },
    {
      "cell_type": "code",
      "source": [
        "lst = [1, 2, 3]\n",
        "tup = (4, 5, 6)\n",
        "d = {\"a\": 1, \"b\": 2}\n",
        "print(lst, tup, d)\n"
      ],
      "metadata": {
        "colab": {
          "base_uri": "https://localhost:8080/"
        },
        "id": "bK82kJldKIyE",
        "outputId": "09be406d-ad97-475e-87fb-e620e4426826"
      },
      "execution_count": 27,
      "outputs": [
        {
          "output_type": "stream",
          "name": "stdout",
          "text": [
            "[1, 2, 3] (4, 5, 6) {'a': 1, 'b': 2}\n"
          ]
        }
      ]
    },
    {
      "cell_type": "markdown",
      "source": [
        "Q27. Write a code to create a list of 5 random numbers between 1 and 100, sort it in ascending order, and print the result"
      ],
      "metadata": {
        "id": "J8Eazq1UKP4Y"
      }
    },
    {
      "cell_type": "code",
      "source": [
        "import random\n",
        "nums = random.sample(range(1, 101), 5)\n",
        "nums.sort()\n",
        "print(nums)\n"
      ],
      "metadata": {
        "colab": {
          "base_uri": "https://localhost:8080/"
        },
        "id": "dIEZZ4BkKNm6",
        "outputId": "2934eaf3-340d-43ec-a1cc-248ba1407bc3"
      },
      "execution_count": 28,
      "outputs": [
        {
          "output_type": "stream",
          "name": "stdout",
          "text": [
            "[9, 12, 62, 67, 81]\n"
          ]
        }
      ]
    },
    {
      "cell_type": "markdown",
      "source": [
        "Q28. Write a code to create a list with strings and print the element at the third index"
      ],
      "metadata": {
        "id": "qFHsJoESKXi3"
      }
    },
    {
      "cell_type": "code",
      "source": [
        "lst = [\"one\", \"two\", \"three\", \"four\"]\n",
        "print(lst[3])\n"
      ],
      "metadata": {
        "colab": {
          "base_uri": "https://localhost:8080/"
        },
        "id": "xdBeE8trKRwn",
        "outputId": "63d86d86-c1c7-4e3d-dc3c-400cff6b4402"
      },
      "execution_count": 29,
      "outputs": [
        {
          "output_type": "stream",
          "name": "stdout",
          "text": [
            "four\n"
          ]
        }
      ]
    },
    {
      "cell_type": "markdown",
      "source": [
        "Q29. Write a code to combine two dictionaries into one and print the result"
      ],
      "metadata": {
        "id": "qp_Bn5jCKcQJ"
      }
    },
    {
      "cell_type": "code",
      "source": [
        "d1 = {\"a\": 1, \"b\": 2}\n",
        "d2 = {\"c\": 3, \"d\": 4}\n",
        "d1.update(d2)\n",
        "print(d1)\n"
      ],
      "metadata": {
        "colab": {
          "base_uri": "https://localhost:8080/"
        },
        "id": "Wg6VmURtKZtW",
        "outputId": "fbcd2d27-db9b-4819-e883-cde0754f7a8b"
      },
      "execution_count": 30,
      "outputs": [
        {
          "output_type": "stream",
          "name": "stdout",
          "text": [
            "{'a': 1, 'b': 2, 'c': 3, 'd': 4}\n"
          ]
        }
      ]
    },
    {
      "cell_type": "markdown",
      "source": [
        "Q30. Write a code to convert a list of strings into a set"
      ],
      "metadata": {
        "id": "GUMYqC22KitE"
      }
    },
    {
      "cell_type": "code",
      "source": [
        "lst = [\"apple\", \"banana\", \"apple\"]\n",
        "print(set(lst))\n"
      ],
      "metadata": {
        "colab": {
          "base_uri": "https://localhost:8080/"
        },
        "id": "bwXHibLBKeX3",
        "outputId": "ef278183-7cdb-4d36-9f6e-dffa8620c5d9"
      },
      "execution_count": 31,
      "outputs": [
        {
          "output_type": "stream",
          "name": "stdout",
          "text": [
            "{'apple', 'banana'}\n"
          ]
        }
      ]
    },
    {
      "cell_type": "code",
      "source": [],
      "metadata": {
        "id": "pUn7_CJiKkug"
      },
      "execution_count": null,
      "outputs": []
    }
  ]
}